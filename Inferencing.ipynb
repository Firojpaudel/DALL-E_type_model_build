{
 "cells": [
  {
   "cell_type": "markdown",
   "metadata": {},
   "source": [
    "#### Testing if the model is working:\n",
    "\n",
    "---"
   ]
  },
  {
   "cell_type": "code",
   "execution_count": 15,
   "metadata": {},
   "outputs": [],
   "source": [
    "import torch\n",
    "from transformers import AutoTokenizer\n",
    "import torch.nn as nn\n",
    "import torch.optim as optim \n",
    "import torch.nn.functional as F\n",
    "from PIL import Image "
   ]
  },
  {
   "cell_type": "code",
   "execution_count": 3,
   "metadata": {},
   "outputs": [],
   "source": [
    "tokenizer = AutoTokenizer.from_pretrained(\"bert-base-uncased\")\n",
    "vocab_size = len(tokenizer)"
   ]
  },
  {
   "cell_type": "code",
   "execution_count": 2,
   "metadata": {},
   "outputs": [],
   "source": [
    "## Config params -- same as in the earlier notebook\n",
    "Z_DIM = 100\n",
    "EMBED_DIM = 256\n",
    "IMG_CHANNELS = 3\n",
    "IMG_SIZE = 256"
   ]
  },
  {
   "cell_type": "code",
   "execution_count": 10,
   "metadata": {},
   "outputs": [],
   "source": [
    "## Rebuilding the Generator -- Ctrl-V from the previous notebook\n",
    "class Generator(nn.Module):\n",
    "    def __init__(self, z_dim, embed_dim, img_channels):\n",
    "        super().__init__()\n",
    "        self.img_size = IMG_SIZE\n",
    "        \n",
    "        self.embedding = nn.Embedding(tokenizer.vocab_size, embed_dim)\n",
    "        self.fc_embed = nn.Linear(embed_dim, z_dim)\n",
    "        \n",
    "        self.main = nn.Sequential(\n",
    "            nn.ConvTranspose2d(z_dim * 2, 1024, 4, 1, 0, bias=False),\n",
    "            nn.BatchNorm2d(1024),\n",
    "            nn.ReLU(True),\n",
    "            nn.ConvTranspose2d(1024, 512, 4, 2, 1, bias=False),\n",
    "            nn.BatchNorm2d(512),\n",
    "            nn.ReLU(True),\n",
    "            nn.ConvTranspose2d(512, 256, 4, 2, 1, bias=False),\n",
    "            nn.BatchNorm2d(256),\n",
    "            nn.ReLU(True),\n",
    "            nn.ConvTranspose2d(256, 128, 4, 2, 1, bias=False),\n",
    "            nn.BatchNorm2d(128),\n",
    "            nn.ReLU(True),\n",
    "            nn.ConvTranspose2d(128, img_channels, 4, 2, 1, bias=False),\n",
    "            nn.Tanh()\n",
    "        )\n",
    "\n",
    "    def forward(self, z, captions):\n",
    "        embed = self.embedding(captions).mean(dim=1)\n",
    "        embed = self.fc_embed(embed)\n",
    "        combined = torch.cat([z, embed], dim=1)\n",
    "        combined = combined.unsqueeze(-1).unsqueeze(-1)\n",
    "        return self.main(combined)"
   ]
  },
  {
   "cell_type": "code",
   "execution_count": 11,
   "metadata": {},
   "outputs": [],
   "source": [
    "def load_generator(checkpoint_path, device=\"cuda\"):\n",
    "    # Initialize model\n",
    "    tokenizer = AutoTokenizer.from_pretrained(\"bert-base-uncased\")  # Same tokenizer as training\n",
    "    generator = Generator(Z_DIM, EMBED_DIM, IMG_CHANNELS).to(device)\n",
    "    \n",
    "    # Load checkpoint\n",
    "    checkpoint = torch.load(checkpoint_path, map_location=device)\n",
    "    \n",
    "    # Handle DataParallel wrapping if used during training\n",
    "    if \"module.\" in list(checkpoint['generator'].keys())[0]:\n",
    "        generator = nn.DataParallel(generator)\n",
    "    \n",
    "    generator.load_state_dict(checkpoint['generator'])\n",
    "    generator.eval()  # Set to evaluation mode\n",
    "    return generator, tokenizer"
   ]
  },
  {
   "cell_type": "code",
   "execution_count": 12,
   "metadata": {},
   "outputs": [],
   "source": [
    "def process_caption(caption, tokenizer, max_length=16, device=\"cuda\"):\n",
    "    tokenized = tokenizer(\n",
    "        caption,\n",
    "        padding=\"max_length\",\n",
    "        truncation=True,\n",
    "        max_length=max_length,\n",
    "        return_tensors=\"pt\"\n",
    "    )\n",
    "    return tokenized.input_ids.squeeze(0).to(device)"
   ]
  },
  {
   "cell_type": "code",
   "execution_count": 13,
   "metadata": {},
   "outputs": [],
   "source": [
    "def generate_image(generator, caption, device=\"cuda\"):\n",
    "    # Process text\n",
    "    caption_ids = process_caption(caption, tokenizer)\n",
    "    \n",
    "    # Generate noise vector\n",
    "    z = torch.randn(1, Z_DIM).to(device)  # Batch size = 1\n",
    "    \n",
    "    # Generate image\n",
    "    with torch.no_grad():\n",
    "        fake_image = generator(z, caption_ids.unsqueeze(0))  # Add batch dimension\n",
    "    \n",
    "    # Convert to PIL Image\n",
    "    fake_image = fake_image.squeeze(0).permute(1, 2, 0).cpu().numpy()\n",
    "    fake_image = (fake_image * 0.5 + 0.5) * 255  # Denormalize [0-255]\n",
    "    fake_image = fake_image.astype(\"uint8\")\n",
    "    \n",
    "    return Image.fromarray(fake_image)"
   ]
  },
  {
   "cell_type": "code",
   "execution_count": 22,
   "metadata": {},
   "outputs": [
    {
     "name": "stderr",
     "output_type": "stream",
     "text": [
      "C:\\Users\\firoj\\AppData\\Local\\Temp\\ipykernel_3496\\4133998212.py:7: FutureWarning: You are using `torch.load` with `weights_only=False` (the current default value), which uses the default pickle module implicitly. It is possible to construct malicious pickle data which will execute arbitrary code during unpickling (See https://github.com/pytorch/pytorch/blob/main/SECURITY.md#untrusted-models for more details). In a future release, the default value for `weights_only` will be flipped to `True`. This limits the functions that could be executed during unpickling. Arbitrary objects will no longer be allowed to be loaded via this mode unless they are explicitly allowlisted by the user via `torch.serialization.add_safe_globals`. We recommend you start setting `weights_only=True` for any use case where you don't have full control of the loaded file. Please open an issue on GitHub for any issues related to this experimental feature.\n",
      "  checkpoint = torch.load(checkpoint_path, map_location=device)\n"
     ]
    }
   ],
   "source": [
    "device = \"cuda\" if torch.cuda.is_available() else \"cpu\"\n",
    "checkpoint_path = \"checkpoints/epoch_3.pt\"\n",
    "generator, tokenizer = load_generator(checkpoint_path, device)\n",
    "\n",
    "# Generate an image\n",
    "caption = \"A bird on top of car\"\n",
    "image = generate_image(generator, caption, device)\n",
    "\n",
    "# Display/save the image\n",
    "image.save(\"generated_image.png\")\n",
    "image.show()"
   ]
  },
  {
   "cell_type": "markdown",
   "metadata": {},
   "source": [
    "Ahhh... So I guess the model is working?? but since the number of epochs was so less, it didn't work as supposed to...\n",
    "\n",
    "---"
   ]
  },
  {
   "cell_type": "markdown",
   "metadata": {},
   "source": []
  }
 ],
 "metadata": {
  "kernelspec": {
   "display_name": "Gen_AI",
   "language": "python",
   "name": "python3"
  },
  "language_info": {
   "codemirror_mode": {
    "name": "ipython",
    "version": 3
   },
   "file_extension": ".py",
   "mimetype": "text/x-python",
   "name": "python",
   "nbconvert_exporter": "python",
   "pygments_lexer": "ipython3",
   "version": "3.12.0"
  }
 },
 "nbformat": 4,
 "nbformat_minor": 2
}
