{
 "cells": [
  {
   "cell_type": "code",
   "execution_count": 1,
   "metadata": {},
   "outputs": [
    {
     "name": "stderr",
     "output_type": "stream",
     "text": [
      "c:\\Users\\firoj\\anaconda3\\envs\\Gen_AI\\Lib\\site-packages\\tqdm\\auto.py:21: TqdmWarning: IProgress not found. Please update jupyter and ipywidgets. See https://ipywidgets.readthedocs.io/en/stable/user_install.html\n",
      "  from .autonotebook import tqdm as notebook_tqdm\n"
     ]
    }
   ],
   "source": [
    "from PIL import Image\n",
    "from datasets import load_from_disk\n",
    "from torchvision import transforms\n",
    "\n",
    "ds_path = 'C:/Users/firoj/Downloads/small_test/content/small_test'\n",
    "\n",
    "ds= load_from_disk(ds_path)\n",
    "# Define the transformation pipeline\n",
    "transform = transforms.Compose([\n",
    "    transforms.Resize((256, 256)),  # Resize images to 256x256\n",
    "    transforms.ToTensor(),         # Convert PIL image to PyTorch tensor\n",
    "    transforms.Normalize(mean=[0.485, 0.456, 0.406], std=[0.229, 0.224, 0.225]),  # Normalize for RGB images\n",
    "])\n",
    "\n",
    "def preprocess_img(example):\n",
    "    img = example['image']  # Replace 'image' with the actual key if different\n",
    "    \n",
    "    # Ensure the image is a PIL Image\n",
    "    if not isinstance(img, Image.Image):\n",
    "        img = Image.fromarray(img)\n",
    "\n",
    "    # Convert grayscale to RGB if necessary\n",
    "    if img.mode != 'RGB':\n",
    "        img = img.convert('RGB')\n",
    "\n",
    "    # Apply transformations\n",
    "    img_transformed = transform(img)\n",
    "    example['image'] = img_transformed\n",
    "    return example\n"
   ]
  },
  {
   "cell_type": "code",
   "execution_count": 2,
   "metadata": {},
   "outputs": [
    {
     "name": "stderr",
     "output_type": "stream",
     "text": [
      "Map: 100%|██████████| 2501/2501 [02:38<00:00, 15.74 examples/s] \n"
     ]
    }
   ],
   "source": [
    "preprocessed_dataset = ds.map(preprocess_img, batched=False)"
   ]
  },
  {
   "cell_type": "code",
   "execution_count": 5,
   "metadata": {},
   "outputs": [
    {
     "name": "stderr",
     "output_type": "stream",
     "text": [
      "Saving the dataset (4/4 shards): 100%|██████████| 2501/2501 [00:02<00:00, 1177.22 examples/s]\n"
     ]
    }
   ],
   "source": [
    "preprocessed_dataset.save_to_disk('Preprocessed_ds')"
   ]
  },
  {
   "cell_type": "code",
   "execution_count": null,
   "metadata": {},
   "outputs": [],
   "source": []
  }
 ],
 "metadata": {
  "kernelspec": {
   "display_name": "Gen_AI",
   "language": "python",
   "name": "python3"
  },
  "language_info": {
   "codemirror_mode": {
    "name": "ipython",
    "version": 3
   },
   "file_extension": ".py",
   "mimetype": "text/x-python",
   "name": "python",
   "nbconvert_exporter": "python",
   "pygments_lexer": "ipython3",
   "version": "3.12.0"
  }
 },
 "nbformat": 4,
 "nbformat_minor": 2
}
