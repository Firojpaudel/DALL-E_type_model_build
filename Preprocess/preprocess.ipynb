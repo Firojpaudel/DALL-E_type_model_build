{
 "cells": [
  {
   "cell_type": "code",
   "execution_count": 2,
   "metadata": {},
   "outputs": [],
   "source": [
    "from PIL import Image\n",
    "from datasets import load_from_disk\n",
    "from torchvision import transforms\n",
    "\n",
    "ds_path = 'C:/Users/firoj/Downloads/small_train/content/small_train'\n",
    "\n",
    "ds= load_from_disk(ds_path)\n",
    "# Define the transformation pipeline\n",
    "transform = transforms.Compose([\n",
    "    transforms.Resize((256, 256)),  # Resize images to 256x256\n",
    "    transforms.ToTensor(),         # Convert PIL image to PyTorch tensor\n",
    "    transforms.Normalize(mean=[0.485, 0.456, 0.406], std=[0.229, 0.224, 0.225]),  # Normalize for RGB images\n",
    "])\n",
    "\n",
    "def preprocess_img(example):\n",
    "    img = example['image']  # Replace 'image' with the actual key if different\n",
    "    \n",
    "    # Ensure the image is a PIL Image\n",
    "    if not isinstance(img, Image.Image):\n",
    "        img = Image.fromarray(img)\n",
    "\n",
    "    # Convert grayscale to RGB if necessary\n",
    "    if img.mode != 'RGB':\n",
    "        img = img.convert('RGB')\n",
    "\n",
    "    # Apply transformations\n",
    "    img_transformed = transform(img)\n",
    "    example['image'] = img_transformed\n",
    "    return example\n"
   ]
  },
  {
   "cell_type": "code",
   "execution_count": 3,
   "metadata": {},
   "outputs": [
    {
     "name": "stderr",
     "output_type": "stream",
     "text": [
      "Map: 100%|██████████| 56674/56674 [18:52<00:00, 50.04 examples/s]  \n"
     ]
    }
   ],
   "source": [
    "preprocessed_dataset = ds.map(preprocess_img, batched=False)"
   ]
  },
  {
   "cell_type": "code",
   "execution_count": 5,
   "metadata": {},
   "outputs": [
    {
     "name": "stderr",
     "output_type": "stream",
     "text": [
      "Saving the dataset (90/90 shards): 100%|██████████| 56674/56674 [09:08<00:00, 103.36 examples/s]\n"
     ]
    }
   ],
   "source": [
    "preprocessed_dataset.save_to_disk('Preprocessed_ds')"
   ]
  },
  {
   "cell_type": "code",
   "execution_count": 4,
   "metadata": {},
   "outputs": [
    {
     "data": {
      "text/plain": [
       "Dataset({\n",
       "    features: ['image', 'filepath', 'sentids', 'filename', 'imgid', 'split', 'sentences', 'cocoid'],\n",
       "    num_rows: 56674\n",
       "})"
      ]
     },
     "execution_count": 4,
     "metadata": {},
     "output_type": "execute_result"
    }
   ],
   "source": [
    "ds_clean = load_from_disk(\"./Preprocessed_ds\")\n",
    "\n",
    "ds_clean"
   ]
  }
 ],
 "metadata": {
  "kernelspec": {
   "display_name": "Gen_AI",
   "language": "python",
   "name": "python3"
  },
  "language_info": {
   "codemirror_mode": {
    "name": "ipython",
    "version": 3
   },
   "file_extension": ".py",
   "mimetype": "text/x-python",
   "name": "python",
   "nbconvert_exporter": "python",
   "pygments_lexer": "ipython3",
   "version": "3.12.0"
  }
 },
 "nbformat": 4,
 "nbformat_minor": 2
}
